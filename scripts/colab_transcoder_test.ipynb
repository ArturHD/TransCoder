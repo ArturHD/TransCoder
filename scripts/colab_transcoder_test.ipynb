{
  "nbformat": 4,
  "nbformat_minor": 0,
  "metadata": {
    "kernelspec": {
      "display_name": "Python 3",
      "language": "python",
      "name": "python3"
    },
    "language_info": {
      "codemirror_mode": {
        "name": "ipython",
        "version": 2
      },
      "file_extension": ".py",
      "mimetype": "text/x-python",
      "name": "python",
      "nbconvert_exporter": "python",
      "pygments_lexer": "ipython2",
      "version": "2.7.6"
    },
    "colab": {
      "name": "colab_transcoder_test.ipynb",
      "provenance": [],
      "toc_visible": true
    }
  },
  "cells": [
    {
      "cell_type": "code",
      "metadata": {
        "id": "h-AV0XppRQZM"
      },
      "source": [
        "# Import my TransCoder fork\n",
        "!rm -rf /content/TransCoder/\n",
        "!git clone https://github.com/ArturHD/TransCoder.git"
      ],
      "execution_count": null,
      "outputs": []
    },
    {
      "cell_type": "code",
      "metadata": {
        "id": "cBB05vB1RPDx"
      },
      "source": [
        "# Load trained models\n",
        "!mkdir /content/adata\n",
        "!mkdir /content/adata/models\n",
        "\n",
        "!cd /content/adata/models; wget https://dl.fbaipublicfiles.com/transcoder/model_1.pth \n",
        "!cd /content/adata/models; wget https://dl.fbaipublicfiles.com/transcoder/model_2.pth"
      ],
      "execution_count": null,
      "outputs": []
    },
    {
      "cell_type": "code",
      "metadata": {
        "id": "M30acDXAYPtD"
      },
      "source": [
        "# Install needed Python3 packages\n",
        "!pip install fastBPE\n",
        "!pip install Moses\n",
        "!pip install libclang\n",
        "!pip install submitit\n",
        "!pip install six\n",
        "!pip install sacrebleu==\"1.2.11\""
      ],
      "execution_count": null,
      "outputs": []
    },
    {
      "cell_type": "code",
      "metadata": {
        "id": "JAfLom3QXrLe"
      },
      "source": [
        "# Try example translation\n",
        "!cd /content/TransCoder/; pwd; python3 translate.py --src_lang cpp --tgt_lang java --model_path ../adata/models/model_1.pth < /content/TransCoder/data/tests_artur/primes.cpp"
      ],
      "execution_count": null,
      "outputs": []
    }
  ]
}