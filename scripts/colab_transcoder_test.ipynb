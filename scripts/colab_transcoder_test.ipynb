{
 "nbformat": 4,
 "nbformat_minor": 0,
 "metadata": {
  "kernelspec": {
   "display_name": "Python 3",
   "language": "python",
   "name": "python3"
  },
  "language_info": {
   "codemirror_mode": {
    "name": "ipython",
    "version": 2
   },
   "file_extension": ".py",
   "mimetype": "text/x-python",
   "name": "python",
   "nbconvert_exporter": "python",
   "pygments_lexer": "ipython2",
   "version": "2.7.6"
  },
  "colab": {
   "name": "colab_transcoder_test.ipynb",
   "provenance": [],
   "toc_visible": true,
   "include_colab_link": true
  }
 },
 "cells": [
  {
   "cell_type": "markdown",
   "metadata": {
    "id": "view-in-github",
    "colab_type": "text",
    "pycharm": {
     "name": "#%% md\n"
    }
   },
   "source": [
    "<a href=\"https://colab.research.google.com/github/ArturHD/TransCoder/blob/master/scripts/colab_transcoder_test.ipynb\" target=\"_parent\"><img src=\"https://colab.research.google.com/assets/colab-badge.svg\" alt=\"Open In Colab\"/></a>"
   ]
  },
  {
   "cell_type": "code",
   "execution_count": null,
   "outputs": [],
   "source": [
    "# Import my TransCoder fork\n",
    "!git clone https://github.com/ArturHD/TransCoder.git"
   ],
   "metadata": {
    "collapsed": false,
    "pycharm": {
     "name": "#%%\n"
    }
   }
  },
  {
   "cell_type": "code",
   "execution_count": null,
   "outputs": [],
   "source": [
    "# Load trained models\n",
    "!mkdir /content/TransCoder/models\n",
    "\n",
    "!cd /content/TransCoder/models; wget https://dl.fbaipublicfiles.com/transcoder/model_1.pth \n",
    "!cd /content/TransCoder/models; wget https://dl.fbaipublicfiles.com/transcoder/model_2.pt"
   ],
   "metadata": {
    "collapsed": false,
    "pycharm": {
     "name": "#%%\n"
    }
   }
  },
  {
   "cell_type": "code",
   "execution_count": null,
   "outputs": [],
   "source": [
    "# Install needed Python3 packages\n",
    "!pip install fastBPE\n",
    "!pip install Moses\n",
    "!pip install libclang\n",
    "!pip install submitit\n",
    "!pip install six\n",
    "!pip install sacrebleu==\"1.2.11\""
   ],
   "metadata": {
    "collapsed": false,
    "pycharm": {
     "name": "#%%\n"
    }
   }
  },
  {
   "cell_type": "code",
   "execution_count": null,
   "outputs": [],
   "source": [
    "# Try example translation\n",
    "!cd /content/TransCoder/; python3 translate.py --src_lang cpp --tgt_lang java --model_path data/TrainedModels/model_1.pth < /content/TransCoder/data/tests_artur/primes.cpp"
   ],
   "metadata": {
    "collapsed": false,
    "pycharm": {
     "name": "#%%\n"
    }
   }
  },
  {
   "cell_type": "code",
   "metadata": {
    "id": "h-AV0XppRQZM",
    "outputId": "459b9cc8-599c-44f0-d919-6584a1e61d14",
    "colab": {
     "base_uri": "https://localhost:8080/",
     "height": 145
    }
   },
   "source": [
    "# Try example translation\n",
    "!cd /content/TransCoder/; python3 translate.py --src_lang cpp --tgt_lang java --model_path data/TrainedModels/model_1.pth < /content/TransCoder/data/tests_artur/primes.cpp"
   ],
   "execution_count": 1,
   "outputs": [
    {
     "output_type": "stream",
     "text": [
      "Cloning into 'TransCoder'...\n",
      "remote: Enumerating objects: 31, done.\u001B[K\n",
      "remote: Counting objects: 100% (31/31), done.\u001B[K\n",
      "remote: Compressing objects: 100% (27/27), done.\u001B[K\n",
      "remote: Total 2234 (delta 3), reused 23 (delta 3), pack-reused 2203\u001B[K\n",
      "Receiving objects: 100% (2234/2234), 4.05 MiB | 22.29 MiB/s, done.\n",
      "Resolving deltas: 100% (1097/1097), done.\n"
     ],
     "name": "stdout"
    }
   ]
  },
  {
   "cell_type": "code",
   "metadata": {
    "id": "cBB05vB1RPDx"
   },
   "source": [
    "# Load trained models\n",
    "!mkdir /content/TransCoder/models\n",
    "\n",
    "!cd /content/TransCoder/models; wget https://dl.fbaipublicfiles.com/transcoder/model_1.pth \n",
    "!cd /content/TransCoder/models; wget https://dl.fbaipublicfiles.com/transcoder/model_2.pt"
   ],
   "execution_count": null,
   "outputs": []
  },
  {
   "cell_type": "code",
   "metadata": {
    "id": "M30acDXAYPtD"
   },
   "source": [
    "# Install needed Python3 packages\n",
    "!pip install fastBPE\n",
    "!pip install Moses\n",
    "!pip install libclang\n",
    "!pip install submitit\n",
    "!pip install six\n",
    "!pip install sacrebleu==\"1.2.11\""
   ],
   "execution_count": null,
   "outputs": []
  },
  {
   "cell_type": "code",
   "metadata": {
    "id": "JAfLom3QXrLe"
   },
   "source": [
    "# Try example translation\n",
    "!cd /content/TransCoder/; python3 translate.py --src_lang cpp --tgt_lang java --model_path data/TrainedModels/model_1.pth < /content/TransCoder/data/tests_artur/primes.cpp"
   ],
   "execution_count": null,
   "outputs": []
  }
 ]
}