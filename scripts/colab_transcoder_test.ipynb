{
  "nbformat": 4,
  "nbformat_minor": 0,
  "metadata": {
    "kernelspec": {
      "display_name": "Python 3",
      "language": "python",
      "name": "python3"
    },
    "language_info": {
      "codemirror_mode": {
        "name": "ipython",
        "version": 2
      },
      "file_extension": ".py",
      "mimetype": "text/x-python",
      "name": "python",
      "nbconvert_exporter": "python",
      "pygments_lexer": "ipython2",
      "version": "2.7.6"
    },
    "colab": {
      "name": "colab_transcoder_test.ipynb",
      "provenance": [],
      "toc_visible": true
    }
  },
  "cells": [
    {
      "cell_type": "code",
      "metadata": {
        "id": "h-AV0XppRQZM",
        "outputId": "459b9cc8-599c-44f0-d919-6584a1e61d14",
        "colab": {
          "base_uri": "https://localhost:8080/",
          "height": 145
        }
      },
      "source": [
        "# Import my TransCoder fork\n",
        "!git clone https://github.com/ArturHD/TransCoder.git"
      ],
      "execution_count": 1,
      "outputs": [
        {
          "output_type": "stream",
          "text": [
            "Cloning into 'TransCoder'...\n",
            "remote: Enumerating objects: 31, done.\u001b[K\n",
            "remote: Counting objects: 100% (31/31), done.\u001b[K\n",
            "remote: Compressing objects: 100% (27/27), done.\u001b[K\n",
            "remote: Total 2234 (delta 3), reused 23 (delta 3), pack-reused 2203\u001b[K\n",
            "Receiving objects: 100% (2234/2234), 4.05 MiB | 22.29 MiB/s, done.\n",
            "Resolving deltas: 100% (1097/1097), done.\n"
          ],
          "name": "stdout"
        }
      ]
    },
    {
      "cell_type": "code",
      "metadata": {
        "id": "cBB05vB1RPDx"
      },
      "source": [
        "# Import and check Torch installation\n",
        "import numpy as np\n",
        "import torch as th\n",
        "print(\"Torch version:\", th.__version__)\n"
      ],
      "execution_count": null,
      "outputs": []
    }
  ]
}