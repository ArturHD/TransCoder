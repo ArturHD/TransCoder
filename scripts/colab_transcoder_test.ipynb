{
 "nbformat": 4,
 "nbformat_minor": 0,
 "metadata": {
  "kernelspec": {
   "display_name": "Python 3",
   "language": "python",
   "name": "python3"
  },
  "language_info": {
   "codemirror_mode": {
    "name": "ipython",
    "version": 2
   },
   "file_extension": ".py",
   "mimetype": "text/x-python",
   "name": "python",
   "nbconvert_exporter": "python",
   "pygments_lexer": "ipython2",
   "version": "2.7.6"
  },
  "colab": {
   "name": "colab_transcoder_test.ipynb",
   "provenance": [],
   "include_colab_link": true
  },
  "accelerator": "GPU"
 },
 "cells": [
  {
   "cell_type": "markdown",
   "metadata": {
    "id": "view-in-github",
    "colab_type": "text"
   },
   "source": [
    "<a href=\"https://colab.research.google.com/github/ArturHD/TransCoder/blob/master/scripts/colab_transcoder_test.ipynb\" target=\"_parent\"><img src=\"https://colab.research.google.com/assets/colab-badge.svg\" alt=\"Open In Colab\"/></a>"
   ]
  },
  {
   "cell_type": "code",
   "metadata": {
    "id": "h-AV0XppRQZM"
   },
   "source": [
    "# Import my TransCoder fork\n",
    "!rm -rf /content/TransCoder/\n",
    "!git clone https://github.com/ArturHD/TransCoder.git"
   ],
   "execution_count": null,
   "outputs": []
  },
  {
   "cell_type": "code",
   "metadata": {
    "id": "cBB05vB1RPDx"
   },
   "source": [
    "# Load trained models\n",
    "!mkdir /content/adata\n",
    "!mkdir /content/adata/models\n",
    "\n",
    "!cd /content/adata/models; wget https://dl.fbaipublicfiles.com/transcoder/model_1.pth \n",
    "# !cd /content/adata/models; wget https://dl.fbaipublicfiles.com/transcoder/model_2.pth"
   ],
   "execution_count": null,
   "outputs": []
  },
  {
   "cell_type": "code",
   "metadata": {
    "id": "M30acDXAYPtD"
   },
   "source": [
    "# Install needed Python3 packages\n",
    "!pip install sacrebleu==\"1.2.11\"\n",
    "!pip install fastBPE\n",
    "!pip install Moses\n",
    "!pip install libclang\n",
    "!pip install submitit\n",
    "!pip install six\n",
    "\n"
   ],
   "execution_count": null,
   "outputs": []
  },
  {
   "cell_type": "code",
   "metadata": {
    "id": "q4BH0ZDMB4hm"
   },
   "source": [
    "# Tools for callgraphs\n",
    "!pip install pycallgraph2\n",
    "#!pip install git+https://github.com/Technologicat/pyan.git\n",
    "!pip install pyan"
   ],
   "execution_count": null,
   "outputs": []
  },
  {
   "cell_type": "code",
   "metadata": {
    "id": "JAfLom3QXrLe",
    "outputId": "d05c33f2-97c1-497c-a1a5-32549d90fe7c",
    "colab": {
     "base_uri": "https://localhost:8080/",
     "height": 563
    }
   },
   "source": [
    "# Try example translation\n",
    "!cd /content/TransCoder/; pwd; python3 translate.py --src_lang cpp --tgt_lang java --model_path ../adata/models/model_1.pth < /content/TransCoder/data/tests_artur/primes.cpp"
   ],
   "execution_count": 3,
   "outputs": [
    {
     "output_type": "stream",
     "text": [
      "/content/TransCoder\n",
      "Loading codes from /content/TransCoder/data/BPE_with_comments_codes ...\n",
      "Read 50000 codes from the codes file.\n",
      "====================\n",
      "@ SuppressLint ( \"NewApi\" ) public static void main ( String [ ] args ) {\n",
      "  int i , n ;\n",
      "  boolean isPrime = true ;\n",
      "  System . out . println ( \"Enter a positive integer: \" ) ;\n",
      "  n = Integer . parseInt ( args [ 0 ] ) ;\n",
      "  if ( n == 0 || n == 1 ) {\n",
      "    isPrime = false ;\n",
      "  }\n",
      "  else {\n",
      "    for ( i = 2 ;\n",
      "    i <= n / 2 ;\n",
      "    ++ i ) {\n",
      "      if ( n % i == 0 ) {\n",
      "        isPrime = false ;\n",
      "        break ;\n",
      "      }\n",
      "    }\n",
      "  }\n",
      "  if ( isPrime ) {\n",
      "    System . out . println ( n + \" is a prime number\" ) ;\n",
      "  }\n",
      "  else {\n",
      "    System . out . println ( n + \" is not a prime number\" ) ;\n",
      "  }\n",
      "}\n",
      "\n"
     ],
     "name": "stdout"
    }
   ]
  },
  {
   "cell_type": "code",
   "metadata": {
    "id": "uBeZb-vSAblX"
   },
   "source": [
    "# Try example translation with pycallgraph2 (fails)\n",
    "# pycallgraph graphviz -- ./mypythonscript.py\n",
    "!cd /content/TransCoder/; pwd; pycallgraph graphviz -- ./translate.py --src_lang cpp --tgt_lang java --model_path ../adata/models/model_1.pth < /content/TransCoder/data/tests_artur/primes.cpp"
   ],
   "execution_count": null,
   "outputs": []
  },
  {
   "cell_type": "code",
   "metadata": {
    "id": "zzJ5je7AC3Vn"
   },
   "source": [
    "# Create static call graph of the project\n",
    "#!alias pygraph='find . -iname \"*.py\" | xargs pyan3 --dot --colored --no-defines --grouped | dot -Tpng -Granksep=1.5 | open -f -a /Applications/Preview.app'\n",
    "# !alias pygraph='find . -iname \"*.py\" | xargs pyan3 --dot --colored --no-defines --grouped | dot -Tpng -Granksep=1.5'\n",
    "!alias pygraph='find . -iname \"*.py\" | xargs pyan3 --uses --no-defines --colored --grouped --annotated --dot | dot -Tpng -Granksep=1.5 > callgraph.png'\n",
    "!alias pygraph2='find . -iname \"*.py\" | xargs pyan3 --uses --no-defines --colored --grouped --annotated --html --file callgraph.html'\n",
    "# !cd /content/TransCoder/; pwd; pygraph\n",
    "!cd /content/TransCoder/; pwd; find . -iname \"*.py\" | xargs pyan --dot --colored --no-defines --grouped | dot -Tpng -Granksep=1.5 | open -f -a /Applications/Preview.app"
   ],
   "execution_count": null,
   "outputs": []
  }
 ]
}