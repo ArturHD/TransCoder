{
 "nbformat": 4,
 "nbformat_minor": 0,
 "metadata": {
  "kernelspec": {
   "display_name": "Python 3",
   "language": "python",
   "name": "python3"
  },
  "language_info": {
   "codemirror_mode": {
    "name": "ipython",
    "version": 2
   },
   "file_extension": ".py",
   "mimetype": "text/x-python",
   "name": "python",
   "nbconvert_exporter": "python",
   "pygments_lexer": "ipython2",
   "version": "2.7.6"
  },
  "colab": {
   "name": "colab_transcoder_test.ipynb",
   "provenance": [],
   "include_colab_link": true
  },
  "accelerator": "GPU"
 },
 "cells": [
  {
   "cell_type": "markdown",
   "metadata": {
    "id": "view-in-github",
    "colab_type": "text"
   },
   "source": [
    "<a href=\"https://colab.research.google.com/github/ArturHD/TransCoder/blob/master/scripts/colab_transcoder_test.ipynb\" target=\"_parent\"><img src=\"https://colab.research.google.com/assets/colab-badge.svg\" alt=\"Open In Colab\"/></a>"
   ]
  },
  {
   "cell_type": "code",
   "metadata": {
    "id": "h-AV0XppRQZM"
   },
   "source": [
    "# Import my TransCoder fork\n",
    "!rm -rf /content/TransCoder/\n",
    "!git clone https://github.com/ArturHD/TransCoder.git"
   ],
   "execution_count": null,
   "outputs": []
  },
  {
   "cell_type": "code",
   "metadata": {
    "id": "cBB05vB1RPDx"
   },
   "source": [
    "# Load trained models\n",
    "!mkdir /content/adata\n",
    "!mkdir /content/adata/models\n",
    "\n",
    "!cd /content/adata/models; wget https://dl.fbaipublicfiles.com/transcoder/model_1.pth \n",
    "# !cd /content/adata/models; wget https://dl.fbaipublicfiles.com/transcoder/model_2.pth"
   ],
   "execution_count": null,
   "outputs": []
  },
  {
   "cell_type": "code",
   "metadata": {
    "id": "M30acDXAYPtD"
   },
   "source": [
    "# Install needed Python3 packages\n",
    "!pip install fastBPE\n",
    "!pip install Moses\n",
    "!pip install libclang\n",
    "!pip install submitit\n",
    "!pip install six\n",
    "!pip install sacrebleu==\"1.2.11\""
   ],
   "execution_count": null,
   "outputs": []
  },
  {
   "cell_type": "code",
   "metadata": {
    "id": "JAfLom3QXrLe",
    "outputId": "61334966-d0e6-469e-8a1b-b57fcf6c1aa1",
    "colab": {
     "base_uri": "https://localhost:8080/",
     "height": 563
    }
   },
   "source": [
    "# Try example translation\n",
    "!cd /content/TransCoder/; pwd; python3 translate.py --src_lang cpp --tgt_lang java --model_path ../adata/models/model_1.pth < /content/TransCoder/data/tests_artur/primes.cpp"
   ],
   "execution_count": 1,
   "outputs": [
    {
     "output_type": "stream",
     "text": [
      "/content/TransCoder\n",
      "Loading codes from /content/TransCoder/data/BPE_with_comments_codes ...\n",
      "Read 50000 codes from the codes file.\n",
      "====================\n",
      "@ SuppressLint ( \"NewApi\" ) public static void main ( String [ ] args ) {\n",
      "  int i , n ;\n",
      "  boolean isPrime = true ;\n",
      "  System . out . println ( \"Enter a positive integer: \" ) ;\n",
      "  n = Integer . parseInt ( args [ 0 ] ) ;\n",
      "  if ( n == 0 || n == 1 ) {\n",
      "    isPrime = false ;\n",
      "  }\n",
      "  else {\n",
      "    for ( i = 2 ;\n",
      "    i <= n / 2 ;\n",
      "    ++ i ) {\n",
      "      if ( n % i == 0 ) {\n",
      "        isPrime = false ;\n",
      "        break ;\n",
      "      }\n",
      "    }\n",
      "  }\n",
      "  if ( isPrime ) {\n",
      "    System . out . println ( n + \" is a prime number\" ) ;\n",
      "  }\n",
      "  else {\n",
      "    System . out . println ( n + \" is not a prime number\" ) ;\n",
      "  }\n",
      "}\n",
      "\n"
     ],
     "name": "stdout"
    }
   ]
  }
 ]
}